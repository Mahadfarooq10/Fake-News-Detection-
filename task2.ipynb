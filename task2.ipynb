{
 "cells": [
  {
   "cell_type": "markdown",
   "metadata": {
    "id": "hwjIG_59xCuu"
   },
   "source": [
    "## Fake News Detection/ Task 02\n",
    "Fahad Farooq 17L4570     Mahad Farooq    17L4427"
   ]
  },
  {
   "cell_type": "code",
   "execution_count": 101,
   "metadata": {
    "id": "qpO4voYzgUDQ"
   },
   "outputs": [],
   "source": [
    "#Importing Libraries\n",
    "import tensorflow as tf\n",
    "import random\n",
    "import numpy as np\n",
    "import pandas as pd\n",
    "import matplotlib.image  as mpimg\n",
    "import matplotlib.pyplot as plt\n",
    "from collections import Counter\n",
    "from itertools import chain\n",
    "\n",
    "import gensim\n",
    "from gensim.models import Word2Vec #word2vec\n",
    "from gensim.models import KeyedVectors\n",
    "\n",
    "\n",
    "#To split the data-set into test and train data\n",
    "from sklearn.model_selection import train_test_split\n",
    "#To do random permutations of the data-set\n",
    "from sklearn.utils import shuffle\n",
    "#For Confusion Matrix \n",
    "from sklearn.metrics import confusion_matrix, classification_report\n",
    "#Transform the words to numbers\n",
    "from tensorflow.keras.preprocessing.text import Tokenizer\n",
    "#For Padding Numbers\n",
    "from tensorflow.keras.preprocessing.sequence import pad_sequences\n",
    "#Conversion of vectors to matrix\n",
    "from tensorflow.keras.utils import to_categorical\n",
    "from tensorflow.keras import regularizers\n",
    "\n",
    "from tensorflow.keras import backend as K \n",
    "K.clear_session()\n",
    "as K\n",
    "\n",
    "# Cleaning the text from any special characters and non-alphanumeric characters\n",
    "def clean_text(text):\n",
    "    #Remove URLs\n",
    "    text = re.sub(r\"http\\S+\", \"\", text)\n",
    "    #Tokenize\n",
    "    tokenizer = RegexpTokenizer('\\w+|\\$[\\d\\.]+|\\S+')\n",
    "    tokens = tokenizer.tokenize(text)\n",
    "    #Remove non alphanumerica characters\n",
    "    words = [word for word in tokens if word.isalpha()]    \n",
    "    return words\n",
    "\n",
    "# Padding the array length\n",
    "def pad_array(array, token_len):\n",
    "    diff_token = token_len - len(array)\n",
    "    if(diff_token < 0):\n",
    "        array = array[:token_len] #Truncate\n",
    "    else:\n",
    "        #Pad\n",
    "        array += [0]*diff_token #Pad\n",
    "        \n",
    "    return array \r\n",
    "#Loading data-set \n",
    "data = pd.read_csv('data.csv')\n",
    "data = data.fillna(' ')\n",
    "data.head()K.clear_session()\r\n",
    "\r\n",
    "\r\n"
   ]
  },
  {
   "cell_type": "code",
   "execution_count": 103,
   "metadata": {
    "colab": {
     "base_uri": "https://localhost:8080/",
     "height": 669
    },
    "id": "XzfrIq_UkUzj",
    "outputId": "47795738-2019-4e4e-9df1-0bee43b3294d"
   },
   "outputs": [
    {
     "data": {
      "text/html": [
       "<div>\n",
       "<style scoped>\n",
       "    .dataframe tbody tr th:only-of-type {\n",
       "        vertical-align: middle;\n",
       "    }\n",
       "\n",
       "    .dataframe tbody tr th {\n",
       "        vertical-align: top;\n",
       "    }\n",
       "\n",
       "    .dataframe thead th {\n",
       "        text-align: right;\n",
       "    }\n",
       "</style>\n",
       "<table border=\"1\" class=\"dataframe\">\n",
       "  <thead>\n",
       "    <tr style=\"text-align: right;\">\n",
       "      <th>Label</th>\n",
       "      <th>0</th>\n",
       "      <th>1</th>\n",
       "    </tr>\n",
       "    <tr>\n",
       "      <th>website</th>\n",
       "      <th></th>\n",
       "      <th></th>\n",
       "    </tr>\n",
       "  </thead>\n",
       "  <tbody>\n",
       "    <tr>\n",
       "      <th>abcnews.go.com</th>\n",
       "      <td>0</td>\n",
       "      <td>57</td>\n",
       "    </tr>\n",
       "    <tr>\n",
       "      <th>api.content-ad.net</th>\n",
       "      <td>2</td>\n",
       "      <td>0</td>\n",
       "    </tr>\n",
       "    <tr>\n",
       "      <th>beforeitsnews.com</th>\n",
       "      <td>1694</td>\n",
       "      <td>0</td>\n",
       "    </tr>\n",
       "    <tr>\n",
       "      <th>bleacherreport.com</th>\n",
       "      <td>0</td>\n",
       "      <td>8</td>\n",
       "    </tr>\n",
       "    <tr>\n",
       "      <th>clarivate.com</th>\n",
       "      <td>0</td>\n",
       "      <td>3</td>\n",
       "    </tr>\n",
       "    <tr>\n",
       "      <th>cnn.it</th>\n",
       "      <td>0</td>\n",
       "      <td>1</td>\n",
       "    </tr>\n",
       "    <tr>\n",
       "      <th>dailybuzzlive.com</th>\n",
       "      <td>99</td>\n",
       "      <td>0</td>\n",
       "    </tr>\n",
       "    <tr>\n",
       "      <th>edition.cnn.com</th>\n",
       "      <td>0</td>\n",
       "      <td>16</td>\n",
       "    </tr>\n",
       "    <tr>\n",
       "      <th>inhealth.cnn.com</th>\n",
       "      <td>0</td>\n",
       "      <td>14</td>\n",
       "    </tr>\n",
       "    <tr>\n",
       "      <th>money.cnn.com</th>\n",
       "      <td>0</td>\n",
       "      <td>49</td>\n",
       "    </tr>\n",
       "    <tr>\n",
       "      <th>reuters.com</th>\n",
       "      <td>0</td>\n",
       "      <td>1</td>\n",
       "    </tr>\n",
       "    <tr>\n",
       "      <th>thelab.bleacherreport.com</th>\n",
       "      <td>0</td>\n",
       "      <td>1</td>\n",
       "    </tr>\n",
       "    <tr>\n",
       "      <th>www.activistpost.com</th>\n",
       "      <td>271</td>\n",
       "      <td>0</td>\n",
       "    </tr>\n",
       "    <tr>\n",
       "      <th>www.bbc.co.uk</th>\n",
       "      <td>0</td>\n",
       "      <td>10</td>\n",
       "    </tr>\n",
       "    <tr>\n",
       "      <th>www.bbc.com</th>\n",
       "      <td>0</td>\n",
       "      <td>333</td>\n",
       "    </tr>\n",
       "    <tr>\n",
       "      <th>www.cnn.com</th>\n",
       "      <td>0</td>\n",
       "      <td>389</td>\n",
       "    </tr>\n",
       "    <tr>\n",
       "      <th>www.disclose.tv</th>\n",
       "      <td>71</td>\n",
       "      <td>0</td>\n",
       "    </tr>\n",
       "    <tr>\n",
       "      <th>www.nytimes.com</th>\n",
       "      <td>0</td>\n",
       "      <td>344</td>\n",
       "    </tr>\n",
       "    <tr>\n",
       "      <th>www.reuters.com</th>\n",
       "      <td>0</td>\n",
       "      <td>646</td>\n",
       "    </tr>\n",
       "  </tbody>\n",
       "</table>\n",
       "</div>"
      ],
      "text/plain": [
       "Label                         0    1\n",
       "website                             \n",
       "abcnews.go.com                0   57\n",
       "api.content-ad.net            2    0\n",
       "beforeitsnews.com          1694    0\n",
       "bleacherreport.com            0    8\n",
       "clarivate.com                 0    3\n",
       "cnn.it                        0    1\n",
       "dailybuzzlive.com            99    0\n",
       "edition.cnn.com               0   16\n",
       "inhealth.cnn.com              0   14\n",
       "money.cnn.com                 0   49\n",
       "reuters.com                   0    1\n",
       "thelab.bleacherreport.com     0    1\n",
       "www.activistpost.com        271    0\n",
       "www.bbc.co.uk                 0   10\n",
       "www.bbc.com                   0  333\n",
       "www.cnn.com                   0  389\n",
       "www.disclose.tv              71    0\n",
       "www.nytimes.com               0  344\n",
       "www.reuters.com               0  646"
      ]
     },
     "execution_count": 103,
     "metadata": {
      "tags": []
     },
     "output_type": "execute_result"
    }
   ],
   "source": [
    "data['website'] = data.URLs.apply(lambda x: x.split('/')[2])\r\n",
    "data.pivot_table(index = 'website', columns = 'Label', values = 'URLs', aggfunc='count').fillna(0).astype(int)"
   ]
  },
  {
   "cell_type": "markdown",
   "metadata": {
    "id": "8tSpAoaGpktm"
   },
   "source": []
  },
  {
   "cell_type": "code",
   "execution_count": 105,
   "metadata": {
    "colab": {
     "base_uri": "https://localhost:8080/",
     "height": 472
    },
    "id": "S9KQSFiip2cY",
    "outputId": "efe60219-6ef1-4926-e8cb-2ed60326b050"
   },
   "outputs": [
    {
     "data": {
      "text/plain": [
       "<matplotlib.axes._subplots.AxesSubplot at 0x7fbb33b601d0>"
      ]
     },
     "execution_count": 105,
     "metadata": {
      "tags": []
     },
     "output_type": "execute_result"
    },
    {
     "data": {
      "image/png": "[encoded data removed]",
      "text/plain": [
       "<Figure size 1080x504 with 1 Axes>"
      ]
     },
     "metadata": {
      "tags": []
     },
     "output_type": "display_data"
    }
   ],
   "source": [
    "\n",
    "#s imbalance\r\n",
    "plt.figure(figsize=(15,7))\r\n",
    "data.groupby('Label').count()['Headline'].plot.bar(title=\"Number of news per category\")"
   ]
  },
  {
   "cell_type": "markdown",
   "metadata": {
    "id": "SBpha-qrtuvy"
   },
   "source": [
    "We have both the headline and the body and we can use both in our model by concatenating the two."
   ]
  },
  {
   "cell_type": "code",
   "execution_count": 106,
   "metadata": {
    "id": "mn7g6AKKuBYS"
   },
   "outputs": [],
   "source": [
    "#Concatenating the two and checking for NaN values\r\n",
    "data[\"Text\"] = data[\"Headline\"] + ' ' + data[\"Body\"()]"
   ]
  },
  {
   "cell_type": "code",
   "execution_count": 107,
   "metadata": {
    "id": "J7jk2g8Z1cVQ"
   },
   "outputs": [],
   "source": [
    "data = data.drop(columns = ['Headline', 'Body'])"
   ]
  },
  {
   "cell_type": "code",
   "execution_count": 108,
   "metadata": {
    "id": "fV7zni0t1V7W"
   },
   "outputs": [],
   "source": [
    "data = data.loc[~data['Text'].isna()]"
   ]
  },
  {
   "cell_type": "code",
   "execution_count": 110,
   "metadata": {
    "colab": {
     "base_uri": "https://localhost:8080/",
     "height": 143
    },
    "id": "JKoYNggB20Bj",
    "outputId": "9ed35b98-d16a-4318-fdaa-e163f3440ef5"
   },
   "outputs": [
    {
     "data": {
      "text/html": [
       "<div>\n",
       "<style scoped>\n",
       "    .dataframe tbody tr th:only-of-type {\n",
       "        vertical-align: middle;\n",
       "    }\n",
       "\n",
       "    .dataframe tbody tr th {\n",
       "        vertical-align: top;\n",
       "    }\n",
       "\n",
       "    .dataframe thead th {\n",
       "        text-align: right;\n",
       "    }\n",
       "</style>\n",
       "<table border=\"1\" class=\"dataframe\">\n",
       "  <thead>\n",
       "    <tr style=\"text-align: right;\">\n",
       "      <th>Fake</th>\n",
       "      <th>the</th>\n",
       "      <th>to</th>\n",
       "      <th>and</th>\n",
       "      <th>of</th>\n",
       "      <th>a</th>\n",
       "      <th>in</th>\n",
       "      <th>is</th>\n",
       "      <th>that</th>\n",
       "      <th>for</th>\n",
       "      <th>on</th>\n",
       "      <th>The</th>\n",
       "      <th>with</th>\n",
       "      <th>as</th>\n",
       "      <th>this</th>\n",
       "      <th>was</th>\n",
       "    </tr>\n",
       "  </thead>\n",
       "  <tbody>\n",
       "    <tr>\n",
       "      <th>Frequency</th>\n",
       "      <td>42060</td>\n",
       "      <td>22027</td>\n",
       "      <td>20157</td>\n",
       "      <td>18730</td>\n",
       "      <td>16732</td>\n",
       "      <td>13267</td>\n",
       "      <td>9038</td>\n",
       "      <td>8457</td>\n",
       "      <td>7763</td>\n",
       "      <td>7282</td>\n",
       "      <td>6303</td>\n",
       "      <td>5317</td>\n",
       "      <td>4813</td>\n",
       "      <td>4523</td>\n",
       "      <td>4366</td>\n",
       "    </tr>\n",
       "  </tbody>\n",
       "</table>\n",
       "</div>"
      ],
      "text/plain": [
       "Fake         the     to    and     of      a  ...   The  with    as  this   was\n",
       "Frequency  42060  22027  20157  18730  16732  ...  6303  5317  4813  4523  4366\n",
       "\n",
       "[1 rows x 15 columns]"
      ]
     },
     "metadata": {
      "tags": []
     },
     "output_type": "display_data"
    },
    {
     "data": {
      "text/html": [
       "<div>\n",
       "<style scoped>\n",
       "    .dataframe tbody tr th:only-of-type {\n",
       "        vertical-align: middle;\n",
       "    }\n",
       "\n",
       "    .dataframe tbody tr th {\n",
       "        vertical-align: top;\n",
       "    }\n",
       "\n",
       "    .dataframe thead th {\n",
       "        text-align: right;\n",
       "    }\n",
       "</style>\n",
       "<table border=\"1\" class=\"dataframe\">\n",
       "  <thead>\n",
       "    <tr style=\"text-align: right;\">\n",
       "      <th>True</th>\n",
       "      <th>the</th>\n",
       "      <th>to</th>\n",
       "      <th>of</th>\n",
       "      <th>a</th>\n",
       "      <th>and</th>\n",
       "      <th>in</th>\n",
       "      <th>on</th>\n",
       "      <th>that</th>\n",
       "      <th>for</th>\n",
       "      <th>is</th>\n",
       "      <th>was</th>\n",
       "      <th>with</th>\n",
       "      <th>The</th>\n",
       "      <th>he</th>\n",
       "      <th>as</th>\n",
       "    </tr>\n",
       "  </thead>\n",
       "  <tbody>\n",
       "    <tr>\n",
       "      <th>Frequency</th>\n",
       "      <td>54608</td>\n",
       "      <td>29145</td>\n",
       "      <td>26449</td>\n",
       "      <td>25009</td>\n",
       "      <td>24464</td>\n",
       "      <td>22863</td>\n",
       "      <td>10691</td>\n",
       "      <td>10385</td>\n",
       "      <td>10315</td>\n",
       "      <td>8790</td>\n",
       "      <td>7526</td>\n",
       "      <td>7279</td>\n",
       "      <td>6998</td>\n",
       "      <td>5926</td>\n",
       "      <td>5838</td>\n",
       "    </tr>\n",
       "  </tbody>\n",
       "</table>\n",
       "</div>"
      ],
      "text/plain": [
       "True         the     to     of      a    and  ...   was  with   The    he    as\n",
       "Frequency  54608  29145  26449  25009  24464  ...  7526  7279  6998  5926  5838\n",
       "\n",
       "[1 rows x 15 columns]"
      ]
     },
     "metadata": {
      "tags": []
     },
     "output_type": "display_data"
    }
   ],
   "source": [
    "#Generating frequency and splitting the frequency of words into True and False    \r",
    "d\r\n",
    "def print_frequency(words, name):\r\n",
    "    counter = Counter(chain.from_iterable(words))\r\n",
    "    data_word_distribution = pd.DataFrame(counter.values(), index = counter.keys(), columns = ['Frequency'])\r\n",
    "    data_word_distribution.index = data_word_distribution.index.set_names(name)\r\n",
    "    data_word_distribution = data_word_distribution.sort_values(by = 'Frequency', ascending = False, axis=0)[:15]\r\n",
    "    data_word_distribution = data_word_distribution.pivot_table(columns = name)\r\n",
    "    data_word_distribution = data_word_distribution.sort_values(by = 'Frequency', ascending = False, axis=1)\r\n",
    "    display(data_word_distr False    \r\n",
    "words_fake = [s.split() for s in data.loc[data.Label == 0]['Text']]\r\n",
    "words_true = [s.split() for s in data.loc[data.Label == 1]['Text']]\r\n",
    "print_frequency(words_fake, 'Fake')\r\n",
    "print_frequency(words_true, 'True')"
   ]
  },
  {
   "cell_type": "markdown",
   "metadata": {
    "id": "WwYENNeVHUvF"
   },
   "source": [
    "Embedding needs training, we hold a test set aside to test our model after completion"
   ]
  },
  {
   "cell_type": "code",
   "execution_count": 112,
   "metadata": {
    "id": "GSnWgRGZHYtQ"
   },
   "outputs": [],
   "source": [
    "#Splitting data-set into training and test data-set\r\n",
    "text_train, text_test, y_train, y_test = train_test_split(data['Text'], data['Label'], test_size = 0.2, random_state = 42) \r\n"
   ]
  },
  {
   "cell_type": "code",
   "execution_count": 113,
   "metadata": {
    "colab": {
     "base_uri": "https://localhost:8080/",
     "height": 0
    },
    "id": "Esoq9IEFH10D",
    "outputId": "3fd14fda-aea7-45e5-cf4b-bf0805caa290"
   },
   "outputs": [
    {
     "name": "stdout",
     "output_type": "stream",
     "text": [
      "95789\n"
     ]
    }
   ],
   "source": [
    "\r\n",
    "\r\n",
    "size_embedding = 200 #Dimensionality of the feature vectors\r\n",
    "windows = 2 #Maximum distance between the current and predicted word within a sentence\r\n",
    "min_count = 1 #Ignores words with total frequency lower than this\r\n",
    "maxlen = 1000 #Length decided for the text (adjusted by padding and truncating)\r\n",
    "\r\n",
    "text_train_splited = [article.split() for article in text_train]\r\n",
    "w2v_model = gensim.models.Word2Vec(sentences = text_train_splited, \r\n",
    "                                   size = size_embedding, \r\n",
    "                                   window = windows, \r\n",
    "                                   min_count = min_count)\r\n",
    "\r\n",
    "#Tokeis the number\r\n",
    "tokenizer = Tokenizer()\r\n",
    "tokenizer.fit_on_texts(text_train_splited)\r\n",
    "text_train_tok = tokenizer.texts_to_sequences(text_train_splited)\r\n",
    "word_index = tokenizer.word_index\r\n",
    "vocab_size=len(word_index)\r\n",
    "print(vocab_size)\r\n",
    "\r\n",
    "\r\n",
    "text_train_tok_pad = pad_sequences(text_train_tok, maxlen=maxlen)"
   ]
  },
  {
   "cell_type": "code",
   "execution_count": 114,
   "metadata": {
    "colab": {
     "base_uri": "https://localhost:8080/",
     "height": 0
    },
    "id": "YbhR22DCKH1r",
    "outputId": "2937e129-c209-48ae-c150-ddc10c49da21"
   },
   "outputs": [
    {
     "name": "stdout",
     "output_type": "stream",
     "text": [
      "--2021-01-04 14:44:12--  https://storage.googleapis.com/laurencemoroney-blog.appspot.com/glove.6B.100d.txt\n",
      "Resolving storage.googleapis.com (storage.googleapis.com)... 74.125.31.128, 173.194.214.128, 173.194.215.128, ...\n",
      "Connecting to storage.googleapis.com (storage.googleapis.com)|74.125.31.128|:443... connected.\n",
      "HTTP request sent, awaiting response... 200 OK\n",
      "Length: 347116733 (331M) [text/plain]\n",
      "Saving to: ‘/tmp/glove.6B.100d.txt’\n",
      "\n",
      "/tmp/glove.6B.100d. 100%[===================>] 331.04M   157MB/s    in 2.1s    \n",
      "\n",
      "2021-01-04 14:44:14 (157 MB/s) - ‘/tmp/glove.6B.100d.txt’ saved [347116733/347116733]\n",
      "\n",
      "100\n"
     ]
    }
   ],
   "source": [
    "# Import tensor representations for words\r\n",
    "\r\n",
    "!wget --no-check-certificate \\\r\n",
    "    https://storage.googleapis.com/laurencemoroney-blog.appspot.com/glove.6B.100d.txt \\\r\n",
    "    -O /tmp/glove.6B.100d.txt\r\n",
    "embeddings_index = {};\r\n",
    "with open('/tmp/glove.6B.100d.txt') as f:\r\n",
    "    for line in f:\r\n",
    "        values = line.split();\r\n",
    "        word = values[0];\r\n",
    "        coefs = np.asarray(values[1:], dtype='float32');\r\n",
    "        embeddings_index[word] = coefs;\r\n",
    "print(len(coefs))\r\n",
    "\r\n",
    "embeddings_matrix = np.zeros((vocab_size+1, 100));\r\n",
    "for word, i in word_index.items():\r\n",
    "    embedding_vector = embeddings_index.get(word);\r\n",
    "    if embedding_vector is not None:\r\n",
    "        embeddings_matrix[i] = embedding_vector;"
   ]
  },
  {
   "cell_type": "markdown",
   "metadata": {
    "id": "lCu4cCkX3YA0"
   },
   "source": [
    "Implementing simple LSTM."
   ]
  },
  {
   "cell_type": "code",
   "execution_count": 115,
   "metadata": {
    "id": "kEc-R2dLMqlP"
   },
   "outputs": [],
   "source": [
    "\n",
    "model = tf.keras.Sequential([\r\n",
    "    tf.keras.layers.Embedding(vocab_size+1, 100, weights=[embeddings_matrix], trainable=False),\r\n",
    "    tf.keras.layers.Dropout(0.2),\r\n",
    "    tf.keras.layers.Conv1D(64, 5, activation='relu'),\r\n",
    "    tf.keras.layers.MaxPooling1D(pool_size=4),\r\n",
    "    tf.keras.layers.LSTM(20, return_sequences=True),\r\n",
    "    tf.keras.layers.LSTM(20),\r\n",
    "    tf.keras.layers.Dropout(0.2),  \r\n",
    "    tf.keras.layers.Dense(512),\r\n",
    "    tf.keras.layers.Dropout(0.3),  \r\n",
    "    tf.keras.layers.Dense(256),\r\n",
    "    tf.keras.layers.Dense(1, activation='sigmoid')\r\n",
    "])\r\n"
   ]
  },
  {
   "cell_type": "code",
   "execution_count": 116,
   "metadata": {
    "colab": {
     "base_uri": "https://localhost:8080/",
     "height": 0
    },
    "id": "z5XHn-NEQxAY",
    "outputId": "1dd6251b-6810-4025-d363-6218a05db362"
   },
   "outputs": [
    {
     "name": "stdout",
     "output_type": "stream",
     "text": [
      "Model: \"sequential\"\n",
      "_________________________________________________________________\n",
      "Layer (type)                 Output Shape              Param #   \n",
      "=================================================================\n",
      "embedding (Embedding)        (None, None, 100)         9579000   \n",
      "_________________________________________________________________\n",
      "dropout (Dropout)            (None, None, 100)         0         \n",
      "_________________________________________________________________\n",
      "conv1d (Conv1D)              (None, None, 64)          32064     \n",
      "_________________________________________________________________\n",
      "max_pooling1d (MaxPooling1D) (None, None, 64)          0         \n",
      "_________________________________________________________________\n",
      "lstm (LSTM)                  (None, None, 20)          6800      \n",
      "_________________________________________________________________\n",
      "lstm_1 (LSTM)                (None, 20)                3280      \n",
      "_________________________________________________________________\n",
      "dropout_1 (Dropout)          (None, 20)                0         \n",
      "_________________________________________________________________\n",
      "dense (Dense)                (None, 512)               10752     \n",
      "_________________________________________________________________\n",
      "dropout_2 (Dropout)          (None, 512)               0         \n",
      "_________________________________________________________________\n",
      "dense_1 (Dense)              (None, 256)               131328    \n",
      "_________________________________________________________________\n",
      "dense_2 (Dense)              (None, 1)                 257       \n",
      "=================================================================\n",
      "Total params: 9,763,481\n",
      "Trainable params: 184,481\n",
      "Non-trainable params: 9,579,000\n",
      "_________________________________________________________________\n",
      "Epoch 1/30\n",
      "81/81 [==============================] - 29s 319ms/step - loss: 0.5670 - accuracy: 0.6720 - val_loss: 0.3116 - val_accuracy: 0.8583\n",
      "Epoch 2/30\n",
      "81/81 [==============================] - 25s 308ms/step - loss: 0.2982 - accuracy: 0.8840 - val_loss: 0.2293 - val_accuracy: 0.9003\n",
      "Epoch 3/30\n",
      "81/81 [==============================] - 25s 307ms/step - loss: 0.1974 - accuracy: 0.9284 - val_loss: 0.3355 - val_accuracy: 0.8676\n",
      "Epoch 4/30\n",
      "81/81 [==============================] - 25s 311ms/step - loss: 0.1813 - accuracy: 0.9233 - val_loss: 0.2724 - val_accuracy: 0.9081\n",
      "Epoch 5/30\n",
      "81/81 [==============================] - 25s 310ms/step - loss: 0.1398 - accuracy: 0.9390 - val_loss: 0.1963 - val_accuracy: 0.9408\n",
      "Epoch 6/30\n",
      "81/81 [==============================] - 25s 312ms/step - loss: 0.0721 - accuracy: 0.9724 - val_loss: 0.1488 - val_accuracy: 0.9517\n",
      "Epoch 7/30\n",
      "81/81 [==============================] - 25s 313ms/step - loss: 0.0527 - accuracy: 0.9801 - val_loss: 0.2328 - val_accuracy: 0.9377\n",
      "Epoch 8/30\n",
      "81/81 [==============================] - 26s 323ms/step - loss: 0.0444 - accuracy: 0.9792 - val_loss: 0.1863 - val_accuracy: 0.9486\n",
      "Epoch 9/30\n",
      "81/81 [==============================] - 26s 321ms/step - loss: 0.0284 - accuracy: 0.9923 - val_loss: 0.1723 - val_accuracy: 0.9611\n",
      "Epoch 10/30\n",
      "81/81 [==============================] - 26s 322ms/step - loss: 0.0226 - accuracy: 0.9910 - val_loss: 0.1576 - val_accuracy: 0.9486\n",
      "Epoch 11/30\n",
      "81/81 [==============================] - 26s 321ms/step - loss: 0.0258 - accuracy: 0.9914 - val_loss: 0.1688 - val_accuracy: 0.9611\n",
      "Epoch 12/30\n",
      "81/81 [==============================] - 26s 318ms/step - loss: 0.0183 - accuracy: 0.9945 - val_loss: 0.1569 - val_accuracy: 0.9548\n",
      "Epoch 13/30\n",
      "81/81 [==============================] - 26s 326ms/step - loss: 0.0179 - accuracy: 0.9902 - val_loss: 0.2072 - val_accuracy: 0.9579\n",
      "Epoch 14/30\n",
      "81/81 [==============================] - 26s 322ms/step - loss: 0.0265 - accuracy: 0.9911 - val_loss: 0.1456 - val_accuracy: 0.9595\n",
      "Epoch 15/30\n",
      "81/81 [==============================] - 26s 319ms/step - loss: 0.0284 - accuracy: 0.9878 - val_loss: 0.2270 - val_accuracy: 0.9564\n",
      "Epoch 16/30\n",
      "81/81 [==============================] - 26s 319ms/step - loss: 0.0084 - accuracy: 0.9980 - val_loss: 0.2006 - val_accuracy: 0.9595\n",
      "Epoch 17/30\n",
      "81/81 [==============================] - 26s 319ms/step - loss: 0.0089 - accuracy: 0.9963 - val_loss: 0.1533 - val_accuracy: 0.9611\n",
      "Epoch 18/30\n",
      "81/81 [==============================] - 26s 325ms/step - loss: 0.0118 - accuracy: 0.9957 - val_loss: 0.1693 - val_accuracy: 0.9642\n",
      "Epoch 19/30\n",
      "81/81 [==============================] - 26s 324ms/step - loss: 0.0066 - accuracy: 0.9975 - val_loss: 0.2204 - val_accuracy: 0.9611\n",
      "Epoch 20/30\n",
      "81/81 [==============================] - 26s 321ms/step - loss: 0.0169 - accuracy: 0.9958 - val_loss: 0.2598 - val_accuracy: 0.9517\n",
      "Epoch 21/30\n",
      "81/81 [==============================] - 26s 320ms/step - loss: 0.0044 - accuracy: 0.9991 - val_loss: 0.2103 - val_accuracy: 0.9673\n",
      "Epoch 22/30\n",
      "81/81 [==============================] - 26s 321ms/step - loss: 0.0170 - accuracy: 0.9931 - val_loss: 0.1917 - val_accuracy: 0.9642\n",
      "Epoch 23/30\n",
      "81/81 [==============================] - 26s 322ms/step - loss: 0.0057 - accuracy: 0.9978 - val_loss: 0.1974 - val_accuracy: 0.9611\n",
      "Epoch 24/30\n",
      "81/81 [==============================] - 26s 318ms/step - loss: 0.0033 - accuracy: 0.9993 - val_loss: 0.1881 - val_accuracy: 0.9673\n",
      "Epoch 25/30\n",
      "81/81 [==============================] - 26s 328ms/step - loss: 0.0031 - accuracy: 0.9994 - val_loss: 0.2094 - val_accuracy: 0.9642\n",
      "Epoch 26/30\n",
      "81/81 [==============================] - 26s 316ms/step - loss: 0.0027 - accuracy: 0.9981 - val_loss: 0.3119 - val_accuracy: 0.9502\n",
      "Epoch 27/30\n",
      "81/81 [==============================] - 26s 324ms/step - loss: 0.0079 - accuracy: 0.9966 - val_loss: 0.1622 - val_accuracy: 0.9642\n",
      "Epoch 28/30\n",
      "81/81 [==============================] - 26s 319ms/step - loss: 0.0292 - accuracy: 0.9897 - val_loss: 0.1072 - val_accuracy: 0.9688\n",
      "Epoch 29/30\n",
      "81/81 [==============================] - 26s 321ms/step - loss: 0.0061 - accuracy: 0.9977 - val_loss: 0.1270 - val_accuracy: 0.9735\n",
      "Epoch 30/30\n",
      "81/81 [==============================] - 26s 320ms/step - loss: 0.0030 - accuracy: 0.9986 - val_loss: 0.1714 - val_accuracy: 0.9735\n",
      "Training Complete\n"
     ]
    }
   ],
   "source": [
    "model.compile(loss='binary_crossentropy',optimizer='adam',metrics=['accuracy'])\r\n",
    "model.summary()\r\n",
    "\r\n",
    "\r\n",
    "history = model.fit(text_train_tok_pad, y_train, validation_split=0.2, epochs=30, batch_size = 32, verbose =print('Training Complete')lete\")"
   ]
  },
  {
   "cell_type": "code",
   "execution_count": 118,
   "metadata": {
    "colab": {
     "base_uri": "https://localhost:8080/",
     "height": 324
    },
    "id": "1kYAHLS_SkKp",
    "outputId": "d6da9f87-f737-4cad-93b3-708194d9dc05"
   },
   "outputs": [
    {
     "name": "stdout",
     "output_type": "stream",
     "text": [
      "              precision    recall  f1-score   support\n",
      "\n",
      "        Fake       0.99      0.96      0.97       455\n",
      "    Not Fake       0.95      0.99      0.97       347\n",
      "\n",
      "    accuracy                           0.97       802\n",
      "   macro avg       0.97      0.97      0.97       802\n",
      "weighted avg       0.97      0.97      0.97       802\n",
      "\n"
     ]
    },
    {
     "data": {
      "image/png": "[encoded data removed]",
      "text/plain": [
       "<Figure size 144x144 with 1 Axes>"
      ]
     },
     "metadata": {
      "tags": []
     },
     "output_type": "display_data"
    }
   ],
   "source": [
    "text_train_splited = [article.split() for article in text_test]\r\n",
    "text_test_tok = tokenizer.texts_to_sequences(text_train_splited)\r\n",
    "text_test_tok_pad = pad_sequences(text_test_tok, maxlen=maxlen)\r\n",
    "pred = (model.predict(text_test_tok_pad) > 0.5).astype(\"int32\")\r\n",
    "\r\n",
    "print(classification_report(y_test, pred, target_names = ['Fake','Not Fake'])) \r\n",
    "cm = pd.DataFrame(confusion_matrix(y_test,pred))\r\n",
    "\r\n",
    "fig , ax = plt.subplots(figsize = (2,2))\r\n",
    "ax = sns.heatmap(cm, annot = True, xticklabels = ['Fake','True'] , yticklabels = ['Fake','True'], cbar = False, fmt='')\r\n",
    "ax.set_xlabel(\"Predicted\"); ax.set_ylabel(\"Actual\"); fig.show()"
   ]
  }
 ],
 "metadata": {
  "colab": {
   "collapsed_sections": [],
   "name": "Untitled1.ipynb",
   "provenance": []
  },
  "kernelspec": {
   "display_name": "Python 3",
   "language": "python",
   "name": "python3"
  },
  "language_info": {
   "codemirror_mode": {
    "name": "ipython",
    "version": 3
   },
   "file_extension": ".py",
   "mimetype": "text/x-python",
   "name": "python",
   "nbconvert_exporter": "python",
   "pygments_lexer": "ipython3",
   "version": "3.8.3"
  }
 },
 "nbformat": 4,
 "nbformat_minor": 4
}
